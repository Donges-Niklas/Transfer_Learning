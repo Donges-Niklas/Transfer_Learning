{
 "cells": [
  {
   "cell_type": "markdown",
   "metadata": {},
   "source": [
    "# Import Dependencies"
   ]
  },
  {
   "cell_type": "code",
   "execution_count": 1,
   "metadata": {},
   "outputs": [
    {
     "name": "stderr",
     "output_type": "stream",
     "text": [
      "Using TensorFlow backend.\n"
     ]
    }
   ],
   "source": [
    "import numpy as np\n",
    "import cv2\n",
    "from keras import applications\n",
    "from keras.preprocessing.image import ImageDataGenerator\n",
    "from keras import optimizers\n",
    "from keras.models import Sequential, Model \n",
    "from keras.layers import Dropout, Flatten, Dense, GlobalAveragePooling2D\n",
    "from keras.utils import to_categorical\n",
    "import matplotlib.pyplot as plt"
   ]
  },
  {
   "cell_type": "markdown",
   "metadata": {},
   "source": [
    "# Get the Data"
   ]
  },
  {
   "cell_type": "code",
   "execution_count": 2,
   "metadata": {
    "collapsed": true
   },
   "outputs": [],
   "source": [
    "from keras.datasets import mnist\n",
    "(x_train, y_train), (x_test, y_test) = mnist.load_data()"
   ]
  },
  {
   "cell_type": "markdown",
   "metadata": {},
   "source": [
    "# Preprocessing"
   ]
  },
  {
   "cell_type": "code",
   "execution_count": 3,
   "metadata": {},
   "outputs": [
    {
     "name": "stdout",
     "output_type": "stream",
     "text": [
      "(60000, 28, 28)\n",
      "(10000, 28, 28)\n",
      "(60000, 48, 48)\n",
      "(10000, 48, 48)\n"
     ]
    }
   ],
   "source": [
    "# reshape mnist data\n",
    "print(x_train.shape)\n",
    "print(x_test.shape)\n",
    "x_train_resized = np.array([cv2.resize(sample, dsize=(48, 48), \n",
    "                                       interpolation=cv2.INTER_CUBIC) for sample in x_train])\n",
    "x_test_resized = np.array([cv2.resize(sample, dsize=(48, 48), \n",
    "                                      interpolation=cv2.INTER_CUBIC) for sample in x_test])\n",
    "print(x_train_resized.shape)\n",
    "print(x_test_resized.shape)"
   ]
  },
  {
   "cell_type": "code",
   "execution_count": 4,
   "metadata": {
    "collapsed": true
   },
   "outputs": [],
   "source": [
    "# from grayscale to rgb since this is the required input for the VGG19 algorithm\n",
    "x_train_resized = np.array([np.dstack((sample, sample, sample)) for sample in x_train_resized])\n",
    "x_test_resized = np.array([np.dstack((sample, sample, sample)) for sample in x_test_resized])"
   ]
  },
  {
   "cell_type": "code",
   "execution_count": 5,
   "metadata": {},
   "outputs": [
    {
     "name": "stdout",
     "output_type": "stream",
     "text": [
      "(60000, 48, 48, 3)\n",
      "(10000, 48, 48, 3)\n"
     ]
    }
   ],
   "source": [
    "print(x_train_resized.shape)\n",
    "print(x_test_resized.shape)"
   ]
  },
  {
   "cell_type": "markdown",
   "metadata": {},
   "source": [
    "# Building the Model"
   ]
  },
  {
   "cell_type": "code",
   "execution_count": 6,
   "metadata": {},
   "outputs": [
    {
     "name": "stdout",
     "output_type": "stream",
     "text": [
      "layers in pre-trained model: 22\n",
      "_________________________________________________________________\n",
      "Layer (type)                 Output Shape              Param #   \n",
      "=================================================================\n",
      "input_1 (InputLayer)         (None, 48, 48, 3)         0         \n",
      "_________________________________________________________________\n",
      "block1_conv1 (Conv2D)        (None, 48, 48, 64)        1792      \n",
      "_________________________________________________________________\n",
      "block1_conv2 (Conv2D)        (None, 48, 48, 64)        36928     \n",
      "_________________________________________________________________\n",
      "block1_pool (MaxPooling2D)   (None, 24, 24, 64)        0         \n",
      "_________________________________________________________________\n",
      "block2_conv1 (Conv2D)        (None, 24, 24, 128)       73856     \n",
      "_________________________________________________________________\n",
      "block2_conv2 (Conv2D)        (None, 24, 24, 128)       147584    \n",
      "_________________________________________________________________\n",
      "block2_pool (MaxPooling2D)   (None, 12, 12, 128)       0         \n",
      "_________________________________________________________________\n",
      "block3_conv1 (Conv2D)        (None, 12, 12, 256)       295168    \n",
      "_________________________________________________________________\n",
      "block3_conv2 (Conv2D)        (None, 12, 12, 256)       590080    \n",
      "_________________________________________________________________\n",
      "block3_conv3 (Conv2D)        (None, 12, 12, 256)       590080    \n",
      "_________________________________________________________________\n",
      "block3_conv4 (Conv2D)        (None, 12, 12, 256)       590080    \n",
      "_________________________________________________________________\n",
      "block3_pool (MaxPooling2D)   (None, 6, 6, 256)         0         \n",
      "_________________________________________________________________\n",
      "block4_conv1 (Conv2D)        (None, 6, 6, 512)         1180160   \n",
      "_________________________________________________________________\n",
      "block4_conv2 (Conv2D)        (None, 6, 6, 512)         2359808   \n",
      "_________________________________________________________________\n",
      "block4_conv3 (Conv2D)        (None, 6, 6, 512)         2359808   \n",
      "_________________________________________________________________\n",
      "block4_conv4 (Conv2D)        (None, 6, 6, 512)         2359808   \n",
      "_________________________________________________________________\n",
      "block4_pool (MaxPooling2D)   (None, 3, 3, 512)         0         \n",
      "_________________________________________________________________\n",
      "block5_conv1 (Conv2D)        (None, 3, 3, 512)         2359808   \n",
      "_________________________________________________________________\n",
      "block5_conv2 (Conv2D)        (None, 3, 3, 512)         2359808   \n",
      "_________________________________________________________________\n",
      "block5_conv3 (Conv2D)        (None, 3, 3, 512)         2359808   \n",
      "_________________________________________________________________\n",
      "block5_conv4 (Conv2D)        (None, 3, 3, 512)         2359808   \n",
      "_________________________________________________________________\n",
      "block5_pool (MaxPooling2D)   (None, 1, 1, 512)         0         \n",
      "=================================================================\n",
      "Total params: 20,024,384\n",
      "Trainable params: 0\n",
      "Non-trainable params: 20,024,384\n",
      "_________________________________________________________________\n"
     ]
    },
    {
     "name": "stderr",
     "output_type": "stream",
     "text": [
      "/anaconda3/lib/python3.6/site-packages/ipykernel_launcher.py:22: UserWarning: Update your `Model` call to the Keras 2 API: `Model(inputs=Tensor(\"in..., outputs=Tensor(\"de...)`\n"
     ]
    }
   ],
   "source": [
    "model = applications.VGG19(weights = \"imagenet\", include_top=False, input_shape=x_train_resized[0].shape)\n",
    "\n",
    "print('layers in pre-trained model: {}'.format(len(model.layers)))\n",
    "\n",
    "# Freeze the layers which you don't want to train. Here I am freezing the first 5 layers.\n",
    "for layer in model.layers:\n",
    "    layer.trainable = False\n",
    "    \n",
    "model.summary()\n",
    "\n",
    "nb_classes = len(np.unique(y_train))\n",
    "    \n",
    "# Adding custom Layers \n",
    "x = model.output\n",
    "x = Flatten()(x)\n",
    "x = Dense(1024, activation=\"relu\")(x)\n",
    "x = Dropout(0.5)(x)\n",
    "x = Dense(1024, activation=\"relu\")(x)\n",
    "output_layer = Dense(nb_classes, activation=\"softmax\")(x)\n",
    "\n",
    "# creating the final model \n",
    "model_final = Model(input=model.input, output=output_layer)"
   ]
  },
  {
   "cell_type": "code",
   "execution_count": 7,
   "metadata": {
    "collapsed": true
   },
   "outputs": [],
   "source": [
    "# compile the model \n",
    "model_final.compile(\n",
    "    loss=\"categorical_crossentropy\", \n",
    "    optimizer=optimizers.SGD(lr=0.0001, momentum=0.9), \n",
    "    metrics=[\"accuracy\"]\n",
    ")"
   ]
  },
  {
   "cell_type": "code",
   "execution_count": 8,
   "metadata": {
    "collapsed": true
   },
   "outputs": [],
   "source": [
    "nb_train_samples = int(len(x_train) * 0.85)\n",
    "\n",
    "y_train_categorical = to_categorical(y_train)\n",
    "y_test_categorical = to_categorical(y_test)\n",
    "\n",
    "x_val = x_train_resized[nb_train_samples:]\n",
    "y_val = y_train_categorical[nb_train_samples:]"
   ]
  },
  {
   "cell_type": "markdown",
   "metadata": {},
   "source": [
    "# Training"
   ]
  },
  {
   "cell_type": "code",
   "execution_count": 11,
   "metadata": {},
   "outputs": [
    {
     "name": "stdout",
     "output_type": "stream",
     "text": [
      "Train on 51000 samples, validate on 9000 samples\n",
      "Epoch 1/10\n",
      "51000/51000 [==============================] - 903s 18ms/step - loss: 0.6407 - acc: 0.8128 - val_loss: 0.2495 - val_acc: 0.9219\n",
      "Epoch 2/10\n",
      "51000/51000 [==============================] - 902s 18ms/step - loss: 0.3878 - acc: 0.8777 - val_loss: 0.2083 - val_acc: 0.9351\n",
      "Epoch 3/10\n",
      "51000/51000 [==============================] - 845s 17ms/step - loss: 0.3244 - acc: 0.8986 - val_loss: 0.1849 - val_acc: 0.9433\n",
      "Epoch 4/10\n",
      "51000/51000 [==============================] - 856s 17ms/step - loss: 0.2921 - acc: 0.9090 - val_loss: 0.1706 - val_acc: 0.9472\n",
      "Epoch 5/10\n",
      "51000/51000 [==============================] - 883s 17ms/step - loss: 0.2634 - acc: 0.9180 - val_loss: 0.1595 - val_acc: 0.9516\n",
      "Epoch 6/10\n",
      "51000/51000 [==============================] - 865s 17ms/step - loss: 0.2440 - acc: 0.9220 - val_loss: 0.1474 - val_acc: 0.9532\n",
      "Epoch 7/10\n",
      "51000/51000 [==============================] - 845s 17ms/step - loss: 0.2284 - acc: 0.9281 - val_loss: 0.1422 - val_acc: 0.9557\n",
      "Epoch 8/10\n",
      "51000/51000 [==============================] - 852s 17ms/step - loss: 0.2185 - acc: 0.9313 - val_loss: 0.1386 - val_acc: 0.9568\n",
      "Epoch 9/10\n",
      "51000/51000 [==============================] - 893s 18ms/step - loss: 0.2070 - acc: 0.9347 - val_loss: 0.1340 - val_acc: 0.9578\n",
      "Epoch 10/10\n",
      "51000/51000 [==============================] - 899s 18ms/step - loss: 0.2024 - acc: 0.9347 - val_loss: 0.1268 - val_acc: 0.9606\n"
     ]
    }
   ],
   "source": [
    "# Train the model \n",
    "history = model_final.fit(\n",
    "    x_train_resized[:nb_train_samples],\n",
    "    y_train_categorical[:nb_train_samples],\n",
    "    validation_data=(x_val, y_val),\n",
    "    batch_size=50,\n",
    "    epochs=10,\n",
    ")"
   ]
  },
  {
   "cell_type": "markdown",
   "metadata": {},
   "source": [
    "# Evaluation"
   ]
  },
  {
   "cell_type": "code",
   "execution_count": 12,
   "metadata": {},
   "outputs": [
    {
     "name": "stdout",
     "output_type": "stream",
     "text": [
      "10000/10000 [==============================] - 145s 14ms/step\n"
     ]
    },
    {
     "data": {
      "text/plain": [
       "[0.14191905381083489, 0.95489999999999997]"
      ]
     },
     "execution_count": 12,
     "metadata": {},
     "output_type": "execute_result"
    }
   ],
   "source": [
    "model_final.evaluate(x_test_resized, y_test_categorical)"
   ]
  },
  {
   "cell_type": "code",
   "execution_count": 13,
   "metadata": {},
   "outputs": [
    {
     "data": {
      "image/png": "[encoded data removed]",
      "text/plain": [
       "<matplotlib.figure.Figure at 0x18309b2c88>"
      ]
     },
     "metadata": {},
     "output_type": "display_data"
    }
   ],
   "source": [
    "history_dict = history.history\n",
    "loss = history_dict['loss']\n",
    "val_loss = history_dict['val_loss']\n",
    "acc = history_dict['acc']\n",
    "val_acc = history_dict['val_acc']\n",
    "epochs = range(1, len(loss) + 1)\n",
    "\n",
    "plt.plot(epochs, loss, label='training loss')\n",
    "plt.plot(epochs, val_loss, label='validation loss')\n",
    "plt.plot(epochs, acc, label='training acc')\n",
    "plt.plot(epochs, val_acc, label='validation acc')\n",
    "plt.legend()\n",
    "plt.show()"
   ]
  },
  {
   "cell_type": "code",
   "execution_count": 14,
   "metadata": {},
   "outputs": [
    {
     "name": "stdout",
     "output_type": "stream",
     "text": [
      "0.960555556748\n"
     ]
    }
   ],
   "source": [
    "print(val_acc[9])"
   ]
  }
 ],
 "metadata": {
  "kernelspec": {
   "display_name": "Python 3",
   "language": "python",
   "name": "python3"
  },
  "language_info": {
   "codemirror_mode": {
    "name": "ipython",
    "version": 3
   },
   "file_extension": ".py",
   "mimetype": "text/x-python",
   "name": "python",
   "nbconvert_exporter": "python",
   "pygments_lexer": "ipython3",
   "version": "3.6.3"
  }
 },
 "nbformat": 4,
 "nbformat_minor": 2
}
